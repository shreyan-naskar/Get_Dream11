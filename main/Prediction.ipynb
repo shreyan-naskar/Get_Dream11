{
  "nbformat": 4,
  "nbformat_minor": 0,
  "metadata": {
    "colab": {
      "provenance": []
    },
    "kernelspec": {
      "name": "python3",
      "display_name": "Python 3"
    },
    "language_info": {
      "name": "python"
    }
  },
  "cells": [
    {
      "cell_type": "code",
      "execution_count": null,
      "metadata": {
        "colab": {
          "base_uri": "https://localhost:8080/"
        },
        "id": "57u9jbRG8mrp",
        "outputId": "0dd70985-d722-4add-c234-1d99f76d8993"
      },
      "outputs": [
        {
          "output_type": "stream",
          "name": "stdout",
          "text": [
            "Drive already mounted at /content/drive; to attempt to forcibly remount, call drive.mount(\"/content/drive\", force_remount=True).\n"
          ]
        }
      ],
      "source": [
        "from google.colab import drive\n",
        "drive.mount('/content/drive')"
      ]
    },
    {
      "cell_type": "code",
      "source": [
        "import pandas as pd"
      ],
      "metadata": {
        "id": "hTApsV_f-Kvc"
      },
      "execution_count": 40,
      "outputs": []
    },
    {
      "cell_type": "code",
      "source": [
        "!pip uninstall scikit-learn -y\n",
        "!pip install -U scikit-learn"
      ],
      "metadata": {
        "id": "H-cSFqfmcDn5"
      },
      "execution_count": null,
      "outputs": []
    },
    {
      "cell_type": "code",
      "source": [
        "import sklearn\n",
        "sklearn.__version__"
      ],
      "metadata": {
        "colab": {
          "base_uri": "https://localhost:8080/",
          "height": 35
        },
        "id": "54_-HsHicUl-",
        "outputId": "37c68ad4-7f4e-4c0e-c664-135bdf8e11f0"
      },
      "execution_count": null,
      "outputs": [
        {
          "output_type": "execute_result",
          "data": {
            "text/plain": [
              "'1.3.0'"
            ],
            "application/vnd.google.colaboratory.intrinsic+json": {
              "type": "string"
            }
          },
          "metadata": {},
          "execution_count": 34
        }
      ]
    },
    {
      "cell_type": "code",
      "source": [
        "import sklearn\n",
        "import pickle\n",
        "\n",
        "file1 = \"/content/drive/MyDrive/PROJECT/Saved_Models/bat_model.pickle\"\n",
        "bat_model = pickle.load(open(file1,\"rb\"))\n",
        "\n",
        "file2 = \"/content/drive/MyDrive/PROJECT/Saved_Models/bowl_model.pickle\"\n",
        "bowl_model = pickle.load(open(file2,\"rb\"))\n",
        "\n",
        "file3 = \"/content/drive/MyDrive/PROJECT/Saved_Models/pipeline_bat.pickle\"\n",
        "pipe_bat = pickle.load(open(file3,\"rb\"))\n",
        "\n",
        "file4 = \"/content/drive/MyDrive/PROJECT/Saved_Models/pipeline_bowl.pickle\"\n",
        "pipe_bowl = pickle.load(open(file4,\"rb\"))"
      ],
      "metadata": {
        "id": "pCf9jgF58qf9"
      },
      "execution_count": 51,
      "outputs": []
    },
    {
      "cell_type": "code",
      "source": [
        "Test_bat = pd.read_csv(\"/content/drive/MyDrive/PROJECT/Test_Data/Match_Bat.csv\")\n",
        "Test_bowl = pd.read_csv(\"/content/drive/MyDrive/PROJECT/Test_Data/Match_Bowl.csv\")"
      ],
      "metadata": {
        "id": "qwDQCGhL9AU2"
      },
      "execution_count": 52,
      "outputs": []
    },
    {
      "cell_type": "code",
      "source": [
        "Test_bowl"
      ],
      "metadata": {
        "id": "kWocBuwuqCSk"
      },
      "execution_count": null,
      "outputs": []
    },
    {
      "cell_type": "code",
      "source": [
        "Test_bat"
      ],
      "metadata": {
        "id": "TlIggndHyWiU"
      },
      "execution_count": null,
      "outputs": []
    },
    {
      "cell_type": "code",
      "source": [
        "X_bat = Test_bat[['Mat','Inns','Runs','HS','Ave','BF','SR','100','50','0','4s','6s']]\n",
        "X_bowl = Test_bowl[['Mat','Inns','Overs','Mdns','Runs','Wkts','Ave','Econ','SR','4','5']]"
      ],
      "metadata": {
        "id": "1BfH9O4Ac0ID"
      },
      "execution_count": 54,
      "outputs": []
    },
    {
      "cell_type": "code",
      "source": [
        "X_transformed_bat = pipe_bat.transform(X_bat)\n",
        "X_transformed_bowl = pipe_bowl.transform(X_bowl)"
      ],
      "metadata": {
        "id": "OJEKrFE9dMi6"
      },
      "execution_count": 55,
      "outputs": []
    },
    {
      "cell_type": "code",
      "source": [
        "y_bat = bat_model.predict(X_transformed_bat)\n",
        "y_bat"
      ],
      "metadata": {
        "id": "AsXUUP4wrPLE",
        "colab": {
          "base_uri": "https://localhost:8080/"
        },
        "outputId": "b9a05716-e0bd-4359-e33c-b40ead861e1c"
      },
      "execution_count": 56,
      "outputs": [
        {
          "output_type": "execute_result",
          "data": {
            "text/plain": [
              "array([1, 1, 1, 0, 0, 0, 0, 1, 1, 1, 0, 0, 1])"
            ]
          },
          "metadata": {},
          "execution_count": 56
        }
      ]
    },
    {
      "cell_type": "code",
      "source": [
        "y_bowl = bowl_model.predict(X_transformed_bowl)\n",
        "y_bowl"
      ],
      "metadata": {
        "colab": {
          "base_uri": "https://localhost:8080/"
        },
        "id": "NiihnLK_sPJh",
        "outputId": "93036416-98cd-4746-e819-c4fe19bcf217"
      },
      "execution_count": 57,
      "outputs": [
        {
          "output_type": "execute_result",
          "data": {
            "text/plain": [
              "array([0, 1, 0, 0, 0, 1, 1, 0, 0])"
            ]
          },
          "metadata": {},
          "execution_count": 57
        }
      ]
    },
    {
      "cell_type": "code",
      "source": [
        "import random\n",
        "InD11 = []\n",
        "for i in range (len(y_bat)):\n",
        "  if y_bat[i] == 1:\n",
        "    InD11.append(Test_bat.values[i][1])\n",
        "\n",
        "for i in range(len(y_bowl)):\n",
        "  if y_bowl[i]:\n",
        "    InD11.append(Test_bowl.values[i][1])\n",
        "\n",
        "# Exceptions\n",
        "if len(InD11)<11:\n",
        "  i = random.randint(0,len(Test_bat.values)-1)\n",
        "  k = random.randint(0,len(Test_bowl.values)-1)\n",
        "  j = -1\n",
        "  while (Test_bat.values[i][1] in InD11) or (Test_bowl.values[k][1] in InD11) :\n",
        "    j = random.randint(0,1)\n",
        "    if j == 0:\n",
        "      i = random.randint(0,len(Test_bat.values)-1)\n",
        "    elif j == 1:\n",
        "      k = random.randint(0,len(Test_bowl.values)-1)\n",
        "  if j == 0:\n",
        "    InD11.append(Test_bat.values[i][1])\n",
        "  else:\n",
        "    InD11.append(Test_bowl.values[k][1])\n",
        "\n",
        "elif len(InD11)>11:\n",
        "  diff = len(InD11) - 11\n",
        "  for i in range(diff):\n",
        "    del InD11[random.randint(0,len(InD11)-1)]\n",
        "\n",
        "\n",
        "Players = pd.DataFrame(data = InD11, columns = [\"D11Player\"])\n",
        "Players.to_csv(\"/content/drive/MyDrive/PROJECT/Predicted_D11.csv\")"
      ],
      "metadata": {
        "id": "MUiTyy4Fse3n"
      },
      "execution_count": 125,
      "outputs": []
    },
    {
      "cell_type": "code",
      "source": [],
      "metadata": {
        "id": "DWsKinqftE8-"
      },
      "execution_count": 119,
      "outputs": []
    }
  ]
}